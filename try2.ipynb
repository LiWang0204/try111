{
 "cells": [
  {
   "cell_type": "code",
   "execution_count": 1,
   "id": "0ac4832e",
   "metadata": {},
   "outputs": [],
   "source": [
    "import ee\n",
    "import geemap\n",
    "import math"
   ]
  },
  {
   "cell_type": "code",
   "execution_count": 4,
   "id": "d931123a",
   "metadata": {},
   "outputs": [
    {
     "data": {
      "text/html": [
       "\n",
       "            <style>\n",
       "                .geemap-dark {\n",
       "                    --jp-widgets-color: white;\n",
       "                    --jp-widgets-label-color: white;\n",
       "                    --jp-ui-font-color1: white;\n",
       "                    --jp-layout-color2: #454545;\n",
       "                    background-color: #383838;\n",
       "                }\n",
       "\n",
       "                .geemap-dark .jupyter-button {\n",
       "                    --jp-layout-color3: #383838;\n",
       "                }\n",
       "\n",
       "                .geemap-colab {\n",
       "                    background-color: var(--colab-primary-surface-color, white);\n",
       "                }\n",
       "\n",
       "                .geemap-colab .jupyter-button {\n",
       "                    --jp-layout-color3: var(--colab-primary-surface-color, white);\n",
       "                }\n",
       "            </style>\n",
       "            "
      ],
      "text/plain": [
       "<IPython.core.display.HTML object>"
      ]
     },
     "metadata": {},
     "output_type": "display_data"
    },
    {
     "data": {
      "application/vnd.jupyter.widget-view+json": {
       "model_id": "8787beb549da463bba4f2fa32abf98bc",
       "version_major": 2,
       "version_minor": 0
      },
      "text/plain": [
       "Map(center=[0, 0], controls=(WidgetControl(options=['position', 'transparent_bg'], widget=SearchDataGUI(childr…"
      ]
     },
     "metadata": {},
     "output_type": "display_data"
    }
   ],
   "source": [
    "geemap.set_proxy(port=8800)\n",
    "Map = geemap.Map()\n",
    "Map.add_basemap(\"HYBRID\")\n",
    "Map"
   ]
  },
  {
   "cell_type": "markdown",
   "id": "f9a727fe",
   "metadata": {},
   "source": [
    "<h1>构建Sentinel影像集并进行特征采集"
   ]
  },
  {
   "cell_type": "code",
   "execution_count": 17,
   "id": "73937af0",
   "metadata": {},
   "outputs": [
    {
     "data": {
      "text/html": [
       "\n",
       "            <style>\n",
       "                .geemap-dark {\n",
       "                    --jp-widgets-color: white;\n",
       "                    --jp-widgets-label-color: white;\n",
       "                    --jp-ui-font-color1: white;\n",
       "                    --jp-layout-color2: #454545;\n",
       "                    background-color: #383838;\n",
       "                }\n",
       "\n",
       "                .geemap-dark .jupyter-button {\n",
       "                    --jp-layout-color3: #383838;\n",
       "                }\n",
       "\n",
       "                .geemap-colab {\n",
       "                    background-color: var(--colab-primary-surface-color, white);\n",
       "                }\n",
       "\n",
       "                .geemap-colab .jupyter-button {\n",
       "                    --jp-layout-color3: var(--colab-primary-surface-color, white);\n",
       "                }\n",
       "            </style>\n",
       "            "
      ],
      "text/plain": [
       "<IPython.core.display.HTML object>"
      ]
     },
     "metadata": {},
     "output_type": "display_data"
    }
   ],
   "source": [
    "# ——用户自定义函数——#\n",
    "def reScale(image):\n",
    "    return image.divide(10000)\n",
    "\n",
    "def rmCloudByQA60(image):\n",
    "    qa = image.select('QA60')\n",
    "    cloudBitMask = 1 << 10\n",
    "    cirrusBitMask = 1 << 11\n",
    "    mask  = qa.bitwiseAnd(cloudBitMask).eq(0).And(qa.bitwiseAnd(cirrusBitMask).eq(0))\n",
    "    mask2 = image.select(\"B2\").lt(2000)\n",
    "    return image.updateMask(mask).updateMask(mask2)\n",
    "\n",
    "def getS2ImageCol(roi, s2, dateRange):\n",
    "    return (ee.ImageCollection(s2)\n",
    "            .filterBounds(roi)\n",
    "            .filterDate(dateRange)\n",
    "            .map(rmCloudByQA60)\n",
    "            .select([\n",
    "                'B1','B11','B12','B2','B3','B4','B5',\n",
    "                'B6','B7','B8','B8A','B9'\n",
    "            ])\n",
    "            .map(reScale)\n",
    "           )\n",
    "\n",
    "# ——准备Sentinel影像——#\n",
    "start = '2019-01-01'\n",
    "end = '2019-12-31'\n",
    "roi = (ee.FeatureCollection(\n",
    "         \"projects/ee-wl1945790713/assets/bareland_extraction/focal_img_500_2_shape_Asia\"\n",
    "       )\n",
    "       .geometry()\n",
    "       .dissolve()\n",
    "       .simplify(10000)\n",
    "     )\n",
    "dateRange = ee.DateRange(start, end)\n",
    "s2 = \"COPERNICUS/S2_SR_HARMONIZED\"\n",
    "s2Col = getS2ImageCol(roi, s2, dateRange)\n",
    "s2Image = s2Col.median().clip(roi)\n",
    "\n",
    "# 可视化真彩色\n",
    "Map.addLayer(\n",
    "    s2Image,\n",
    "    {'bands': ['B4','B3','B2'], 'min': 0, 'max': 0.3},\n",
    "    'Sentinel-2 RGB'\n",
    ")\n",
    "\n",
    "# 计算各种指数并添加波段\n",
    "indices = {\n",
    "    'MNDWI': ['B3','B11'],\n",
    "    'NDBI' : ['B11','B8'],\n",
    "    'NDVI' : ['B8','B4'],\n",
    "    'NDSI' : ['B4','B1'],\n",
    "    'NDSDI':['B4','B12'],\n",
    "    'NDSAI':['B11','B4'],\n",
    "}\n",
    "for name, bands in indices.items():\n",
    "    img_idx = s2Image.normalizedDifference(bands).rename(name)\n",
    "    s2Image = s2Image.addBands(img_idx)\n",
    "GI = s2Image.expression(\n",
    "    \"0.3 * R + 0.59 * G + 0.11 * B\",\n",
    "    {\n",
    "        'R': s2Image.select('B4'),\n",
    "        'G': s2Image.select('B3'),\n",
    "        'B': s2Image.select('B2')\n",
    "    }\n",
    ").rename(\"GI\")\n",
    "\n",
    "#——添加其他影像数据集——#\n",
    "dem = ee.Image(\"NASA/NASADEM_HGT/001\").select(\"elevation\")\n",
    "slope = ee.Terrain.slope(dem).rename(\"slope\")\n",
    "aspect = ee.Terrain.aspect(dem).rename(\"aspect\")"
   ]
  },
  {
   "cell_type": "code",
   "execution_count": 14,
   "id": "96bf247a",
   "metadata": {},
   "outputs": [
    {
     "data": {
      "text/html": [
       "\n",
       "            <style>\n",
       "                .geemap-dark {\n",
       "                    --jp-widgets-color: white;\n",
       "                    --jp-widgets-label-color: white;\n",
       "                    --jp-ui-font-color1: white;\n",
       "                    --jp-layout-color2: #454545;\n",
       "                    background-color: #383838;\n",
       "                }\n",
       "\n",
       "                .geemap-dark .jupyter-button {\n",
       "                    --jp-layout-color3: #383838;\n",
       "                }\n",
       "\n",
       "                .geemap-colab {\n",
       "                    background-color: var(--colab-primary-surface-color, white);\n",
       "                }\n",
       "\n",
       "                .geemap-colab .jupyter-button {\n",
       "                    --jp-layout-color3: var(--colab-primary-surface-color, white);\n",
       "                }\n",
       "            </style>\n",
       "            "
      ],
      "text/plain": [
       "<IPython.core.display.HTML object>"
      ]
     },
     "metadata": {},
     "output_type": "display_data"
    },
    {
     "data": {
      "application/vnd.jupyter.widget-view+json": {
       "model_id": "8787beb549da463bba4f2fa32abf98bc",
       "version_major": 2,
       "version_minor": 0
      },
      "text/plain": [
       "Map(bottom=25159.0, center=[39.7958755252971, 83.47412109375001], controls=(WidgetControl(options=['position',…"
      ]
     },
     "metadata": {},
     "output_type": "display_data"
    }
   ],
   "source": [
    "#Map.addLayer(GI, {'min': 0, 'max': 6}, 'GI')\n",
    "#Map.addLayer(roi, {'color': 'red'}, 'ROI')\n",
    "Map"
   ]
  },
  {
   "cell_type": "code",
   "execution_count": null,
   "id": "bd4ad000",
   "metadata": {},
   "outputs": [],
   "source": [
    "glcm = GI.select('GI').toByte().glcmTexture({size: 3, scale: 1}\n",
    ")"
   ]
  }
 ],
 "metadata": {
  "kernelspec": {
   "display_name": "Pytorch",
   "language": "python",
   "name": "pytorch"
  },
  "language_info": {
   "codemirror_mode": {
    "name": "ipython",
    "version": 3
   },
   "file_extension": ".py",
   "mimetype": "text/x-python",
   "name": "python",
   "nbconvert_exporter": "python",
   "pygments_lexer": "ipython3",
   "version": "3.8.18"
  }
 },
 "nbformat": 4,
 "nbformat_minor": 5
}
